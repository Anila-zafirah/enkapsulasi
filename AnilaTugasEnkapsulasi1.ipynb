{
  "nbformat": 4,
  "nbformat_minor": 0,
  "metadata": {
    "colab": {
      "provenance": [],
      "include_colab_link": true
    },
    "kernelspec": {
      "name": "python3",
      "display_name": "Python 3"
    },
    "language_info": {
      "name": "python"
    }
  },
  "cells": [
    {
      "cell_type": "markdown",
      "metadata": {
        "id": "view-in-github",
        "colab_type": "text"
      },
      "source": [
        "<a href=\"https://colab.research.google.com/github/Anila-zafirah/enkapsulasi/blob/main/AnilaTugasEnkapsulasi1.ipynb\" target=\"_parent\"><img src=\"https://colab.research.google.com/assets/colab-badge.svg\" alt=\"Open In Colab\"/></a>"
      ]
    },
    {
      "cell_type": "code",
      "execution_count": null,
      "metadata": {
        "id": "ihePdlIsSR5E"
      },
      "outputs": [],
      "source": [
        "class Karyawan:\n",
        "  def __init__(self, nama, gaji):\n",
        "    #Deklarasi dan inisialisai variabel privat untuk nama\n",
        "    self.__nama = nama\n",
        "    #Deklarasi dan inisialisai variabel privat untuk gaji\n",
        "    self.__gaji = gaji\n",
        "\n",
        "  # Fungsi untuk mengakses nama\n",
        "  def get_nama(self):\n",
        "    return self.__nama\n",
        "\n",
        "  # Fungsi untuk mengubah nama\n",
        "  def set_nama(self, nama):\n",
        "    self.__nama = nama\n",
        "\n",
        "  # Fungsi untuk mengakses gaji\n",
        "  def get_gaji(self):\n",
        "    return self.__gaji\n",
        "\n",
        "  # Fungsi untuk mengubah gaji\n",
        "  def set_gaji(self, gaji):\n",
        "    self.__gaji= gaji"
      ]
    },
    {
      "cell_type": "code",
      "source": [
        "# Membuat objek Karyawan dengan nama Ahmad dengan gaji 4000000\n",
        "k = Karyawan('Ahmad', 4000000)\n",
        "\n",
        "# Mengakses/menampilkan nama dan gaji menggunakan fungsi\n",
        "print(k.get_nama())\n",
        "print(k.get_gaji())\n",
        "\n",
        "\n",
        "# Mengubah nama menjadi nama anda masing-masing dan gaji bebas menggunakan fungsi\n",
        "k.set_nama('Anila')\n",
        "print(k.get_nama())\n",
        "\n",
        "# Mengakses/menampilkan nama dan gaji setelah diubah\n",
        "k.set_gaji(300000)\n",
        "print(k.get_gaji())\n",
        "\n",
        "k2 = Karyawan('Dina',4000000)\n",
        "\n",
        "#inituh utk nampilin/print buat yg di variabel itu atau bisa jg yg udah diubah\n",
        "print('')\n",
        "print(k2.get_nama()) #<---kalo gini berarti langsung ngeprint yg di variabel\n",
        "print(k2.get_gaji()) #<---kalo gini berarti langsung ngeprint yg di variabel\n",
        "\n",
        "print('')\n",
        "k2.set_nama('Diki') #<---kalo ini buat ngerubah objek yg di variabel gitu(intinya ini bisa dirubah)\n",
        "print(k2.get_nama()) #<---inituh intinya buat nampilin yg diatasnya ^\n",
        "k2.set_gaji(9000000)\n",
        "print(k2.get_gaji())"
      ],
      "metadata": {
        "id": "aOwy6rfdSga2",
        "colab": {
          "base_uri": "https://localhost:8080/"
        },
        "outputId": "944496ab-831e-4278-9550-c799c8b3f582"
      },
      "execution_count": null,
      "outputs": [
        {
          "output_type": "stream",
          "name": "stdout",
          "text": [
            "Ahmad\n",
            "4000000\n",
            "Anila\n",
            "300000\n",
            "\n",
            "Dina\n",
            "4000000\n",
            "\n",
            "Diki\n",
            "9000000\n"
          ]
        }
      ]
    }
  ]
}