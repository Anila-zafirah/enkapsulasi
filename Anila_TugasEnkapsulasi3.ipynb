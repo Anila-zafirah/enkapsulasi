{
  "nbformat": 4,
  "nbformat_minor": 0,
  "metadata": {
    "colab": {
      "provenance": [],
      "include_colab_link": true
    },
    "kernelspec": {
      "name": "python3",
      "display_name": "Python 3"
    },
    "language_info": {
      "name": "python"
    }
  },
  "cells": [
    {
      "cell_type": "markdown",
      "metadata": {
        "id": "view-in-github",
        "colab_type": "text"
      },
      "source": [
        "<a href=\"https://colab.research.google.com/github/Anila-zafirah/enkapsulasi/blob/main/Anila_TugasEnkapsulasi3.ipynb\" target=\"_parent\"><img src=\"https://colab.research.google.com/assets/colab-badge.svg\" alt=\"Open In Colab\"/></a>"
      ]
    },
    {
      "cell_type": "markdown",
      "source": [
        "Buatlah kelas RekeningBank dengan atribut berikut:\n",
        "\n",
        "*   nama_pemilik (private)\n",
        "*   saldo (private)\n",
        "\n",
        "Berikan metode berikut:\n",
        "\n",
        "*   __init__: Menginisialisasi saldo dan nama_pemilik.\n",
        "*   set_saldo: Mengubah nilai saldo.\n",
        "*   get_saldo: Mengembalikan nilai saldo.\n",
        "*   set_nama_pemilik: Mengubah nama pemilik.\n",
        "*   get_nama_pemilik: Mengembalikan nama pemilik.\n",
        "\n",
        "\n",
        "\n",
        "\n",
        "\n",
        "\n",
        "\n",
        "\n"
      ],
      "metadata": {
        "id": "PktiI90eS6Ee"
      }
    },
    {
      "cell_type": "code",
      "source": [
        "# Desain class\n",
        "class RekeningBank:\n",
        "  def __init__(self, nm, saldo):\n",
        "    self.__nm=nm\n",
        "    self.__saldo=saldo\n",
        "\n",
        "\n",
        "  def get_saldo(self):\n",
        "    return self.__saldo\n",
        "\n",
        "  def set_saldo(self, saldo):\n",
        "    self.__saldo=saldo\n",
        "\n",
        "  def get_nm(self):\n",
        "    return self.__nm\n",
        "\n",
        "  def set_nm(self, nm):\n",
        "    self.__nm=nm\n",
        "\n",
        "  def setor(self, jumlah_setor):\n",
        "    self.__saldo = self.__saldo + jumlah_setor\n",
        "    return self.__saldo\n",
        "\n",
        "  def tarik(self, jumlah_tarik):\n",
        "    if jumlah_tarik <= self.__saldo:\n",
        "      self.__saldo = self.__saldo - jumlah_tarik\n",
        "      print(f'total saldo setelah tarik : {self.__saldo}')\n",
        "    elif jumlah_tarik >= self.__saldo:\n",
        "      print(\"Saldo Anda Tidak Cukup!\")"
      ],
      "metadata": {
        "id": "Pyj-mkyciVfk"
      },
      "execution_count": 32,
      "outputs": []
    },
    {
      "cell_type": "code",
      "source": [
        "#Program utama untuk mendemonstrasikan class RekeningBank\n",
        "#yang menunjukkan penggunaan semua fungsi yang ada\n",
        "\n",
        "m = RekeningBank('Anila', 1500000)\n",
        "\n",
        "print(f'Nama pemilik : {m.get_nm()}')\n",
        "print(f'Saldo : {m.get_saldo()}')\n",
        "print(f'total saldo setelah disetor: {m.setor(2000)}')\n",
        "m.tarik(100000000)"
      ],
      "metadata": {
        "id": "aOwy6rfdSga2",
        "colab": {
          "base_uri": "https://localhost:8080/"
        },
        "outputId": "feccbfba-1b4f-4047-fd34-81ee41454767"
      },
      "execution_count": 34,
      "outputs": [
        {
          "output_type": "stream",
          "name": "stdout",
          "text": [
            "Nama pemilik : Anila\n",
            "Saldo : 1500000\n",
            "total saldo setelah disetor: 1502000\n",
            "Saldo Anda Tidak Cukup!\n"
          ]
        }
      ]
    }
  ]
}