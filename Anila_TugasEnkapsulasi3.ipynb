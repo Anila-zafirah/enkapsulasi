{
  "nbformat": 4,
  "nbformat_minor": 0,
  "metadata": {
    "colab": {
      "provenance": [],
      "include_colab_link": true
    },
    "kernelspec": {
      "name": "python3",
      "display_name": "Python 3"
    },
    "language_info": {
      "name": "python"
    }
  },
  "cells": [
    {
      "cell_type": "markdown",
      "metadata": {
        "id": "view-in-github",
        "colab_type": "text"
      },
      "source": [
        "<a href=\"https://colab.research.google.com/github/Anila-zafirah/enkapsulasi/blob/main/Anila_TugasEnkapsulasi3.ipynb\" target=\"_parent\"><img src=\"https://colab.research.google.com/assets/colab-badge.svg\" alt=\"Open In Colab\"/></a>"
      ]
    },
    {
      "cell_type": "markdown",
      "source": [
        "Buatlah kelas RekeningBank dengan atribut berikut:\n",
        "\n",
        "*   nama_pemilik (private)\n",
        "*   saldo (private)\n",
        "\n",
        "Berikan metode berikut:\n",
        "\n",
        "*   __init__: Menginisialisasi saldo dan nama_pemilik.\n",
        "*   set_saldo: Mengubah nilai saldo.\n",
        "*   get_saldo: Mengembalikan nilai saldo.\n",
        "*   set_nama_pemilik: Mengubah nama pemilik.\n",
        "*   get_nama_pemilik: Mengembalikan nama pemilik.\n",
        "\n",
        "\n",
        "\n",
        "\n",
        "\n",
        "\n",
        "\n",
        "\n"
      ],
      "metadata": {
        "id": "PktiI90eS6Ee"
      }
    },
    {
      "cell_type": "code",
      "source": [
        "# Desain class\n",
        "class RekeningBank:\n",
        "  def __init__(self, nm, saldo, jumlah):\n",
        "    self.__nm=nm\n",
        "    self.__saldo=saldo\n",
        "    self.__jumlah=jumlah\n",
        "\n",
        "  def get_saldo(self):\n",
        "    return self.__saldo\n",
        "\n",
        "  def set_saldo(self, saldo):\n",
        "    self.__saldo=saldo\n",
        "\n",
        "  def get_nm(self):\n",
        "    return self.__nm\n",
        "\n",
        "  def set_nm(self, nm):\n",
        "    self.__nm=nm\n",
        "\n",
        "  def setor(self):\n",
        "    return self.__saldo + self.__jumlah\n",
        "\n",
        "  def tarik(self):\n",
        "    if self.__jumlah <= self.__saldo:\n",
        "      return self.__saldo - self.__jumlah\n",
        "    else:\n",
        "      print(\"Saldo tidak mencukupi\")"
      ],
      "metadata": {
        "id": "Pyj-mkyciVfk"
      },
      "execution_count": 48,
      "outputs": []
    },
    {
      "cell_type": "code",
      "source": [
        "#Program utama untuk mendemonstrasikan class RekeningBank\n",
        "#yang menunjukkan penggunaan semua fungsi yang ada\n",
        "\n",
        "m = RekeningBank('Ani', 1500000, 100000)\n",
        "\n",
        "print(f'Nama pemilik : {m.get_nm()}')\n",
        "print(f'Isi saldo : {m.get_saldo()}')\n",
        "\n",
        "print('')\n",
        "m.set_nm('Andi')\n",
        "print(f'Nama pemilik : {m.get_nm()}')\n",
        "m.set_saldo(7000000)\n",
        "print(f'Isi saldo : {m.get_saldo()}')\n",
        "\n",
        "print('')\n",
        "m.set_nm('Rio')\n",
        "print(f'Nama pemilik : {m.get_nm()}')\n",
        "m.set_saldo(23000000)\n",
        "print(f'Isi saldo : {m.get_saldo()}')\n",
        "\n",
        "print(f'total saldo setelah disetor: {m.setor()}')\n",
        "print(f'total saldo setelah ditarik : {m.tarik()}')\n",
        "\n",
        "print('')\n",
        "m.set_nm('Angga')\n",
        "print(f'Nama pemilik : {m.get_nm()}')\n",
        "m.set_saldo(5000000)\n",
        "print(f'Isi saldo : {m.get_saldo()}')"
      ],
      "metadata": {
        "id": "aOwy6rfdSga2",
        "colab": {
          "base_uri": "https://localhost:8080/"
        },
        "outputId": "aa21b88a-0eae-401f-d592-63b96378c472"
      },
      "execution_count": 50,
      "outputs": [
        {
          "output_type": "stream",
          "name": "stdout",
          "text": [
            "Nama pemilik : Ani\n",
            "Isi saldo : 1500000\n",
            "\n",
            "Nama pemilik : Andi\n",
            "Isi saldo : 7000000\n",
            "\n",
            "Nama pemilik : Rio\n",
            "Isi saldo : 23000000\n",
            "total saldo setelah disetor: 23100000\n",
            "total saldo setelah ditarik : 22900000\n"
          ]
        }
      ]
    }
  ]
}